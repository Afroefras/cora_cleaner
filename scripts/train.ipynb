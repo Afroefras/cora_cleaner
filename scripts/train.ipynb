{
 "cells": [
  {
   "cell_type": "code",
   "execution_count": 15,
   "metadata": {},
   "outputs": [],
   "source": [
    "import pickle\n",
    "\n",
    "TENSOR_PATH = \"/Users/efrainflores/Desktop/Nowports/repos/cora_cleaner/data/tensors/paths_tensors_2023-08-07.xz\"\n",
    "with open(TENSOR_PATH, 'rb') as handle:\n",
    "    paths, tensors = pickle.load(handle)"
   ]
  }
 ],
 "metadata": {
  "kernelspec": {
   "display_name": "cora_cleaner-eXlQ0b7N",
   "language": "python",
   "name": "python3"
  },
  "language_info": {
   "codemirror_mode": {
    "name": "ipython",
    "version": 3
   },
   "file_extension": ".py",
   "mimetype": "text/x-python",
   "name": "python",
   "nbconvert_exporter": "python",
   "pygments_lexer": "ipython3",
   "version": "3.11.4"
  },
  "orig_nbformat": 4
 },
 "nbformat": 4,
 "nbformat_minor": 2
}
