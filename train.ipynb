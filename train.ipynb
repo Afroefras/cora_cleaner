{
 "cells": [
  {
   "cell_type": "markdown",
   "metadata": {},
   "source": [
    "# Entorno"
   ]
  },
  {
   "cell_type": "code",
   "execution_count": null,
   "metadata": {},
   "outputs": [],
   "source": [
    "import torch\n",
    "import torchaudio\n",
    "import numpy as np\n",
    "import torch.nn as nn\n",
    "from random import randint\n",
    "import pytorch_lightning as pl\n",
    "from pydub import AudioSegment\n",
    "from scripts.extract import load_heart_noised_paths\n",
    "from pytorch_lightning.loggers import TensorBoardLogger\n",
    "from torch.utils.data import Dataset, DataLoader, random_split\n",
    "from torch.optim.lr_scheduler import CyclicLR, ReduceLROnPlateau\n",
    "from scripts.plot import plot_audio_sample, plot_prediction_from_tuple\n",
    "from pytorch_lightning.callbacks import (\n",
    "    ModelCheckpoint,\n",
    "    EarlyStopping,\n",
    "    LearningRateMonitor,\n",
    ")"
   ]
  },
  {
   "cell_type": "markdown",
   "metadata": {},
   "source": [
    "# Relación de datos"
   ]
  },
  {
   "cell_type": "code",
   "execution_count": null,
   "metadata": {},
   "outputs": [],
   "source": [
    "heart_noised = load_heart_noised_paths(\n",
    "    clean_dir=\"data/heart_sound\",\n",
    "    noised_dir=\"data/heart_noised\",\n",
    ")\n",
    "\n",
    "heart_noised[:3]"
   ]
  },
  {
   "cell_type": "markdown",
   "metadata": {},
   "source": [
    "# Cómo suena?"
   ]
  },
  {
   "cell_type": "code",
   "execution_count": null,
   "metadata": {},
   "outputs": [],
   "source": [
    "test = heart_noised[randint(0, len(heart_noised))]\n",
    "\n",
    "audio_clean = AudioSegment.from_file(test[0])\n",
    "audio_noisy = AudioSegment.from_file(test[1])"
   ]
  },
  {
   "cell_type": "code",
   "execution_count": null,
   "metadata": {},
   "outputs": [],
   "source": [
    "audio_clean"
   ]
  },
  {
   "cell_type": "code",
   "execution_count": null,
   "metadata": {},
   "outputs": [],
   "source": [
    "audio_noisy"
   ]
  },
  {
   "cell_type": "markdown",
   "metadata": {},
   "source": [
    "# Cómo se ve?"
   ]
  },
  {
   "cell_type": "code",
   "execution_count": null,
   "metadata": {},
   "outputs": [],
   "source": [
    "clean_array = np.array(audio_clean.get_array_of_samples())\n",
    "noisy_array = np.array(audio_noisy.get_array_of_samples())\n",
    "clean_array.shape, noisy_array.shape"
   ]
  },
  {
   "cell_type": "code",
   "execution_count": null,
   "metadata": {},
   "outputs": [],
   "source": [
    "plot_audio_sample(clean_array, \"Audio Limpio\")\n",
    "plot_audio_sample(noisy_array, \"Audio con Ruido\")"
   ]
  },
  {
   "cell_type": "markdown",
   "metadata": {},
   "source": [
    "# CustomDataset class"
   ]
  },
  {
   "cell_type": "code",
   "execution_count": null,
   "metadata": {},
   "outputs": [],
   "source": [
    "class CoraCleanerDataset(Dataset):\n",
    "    def __init__(self, data_tuples, transform=None):\n",
    "        self.data_tuples = data_tuples\n",
    "        self.transform = transform\n",
    "        # Calcular la duración mínima de todos los audios\n",
    "        self.min_duration = self.calculate_min_duration(level=10)\n",
    "\n",
    "    def __len__(self):\n",
    "        return len(self.data_tuples)\n",
    "\n",
    "    def calculate_min_duration(self, level: int = 1):\n",
    "        self.durations = []\n",
    "        for _, audio_path in self.data_tuples:\n",
    "            audio, _ = torchaudio.load(audio_path)\n",
    "            self.durations.append(audio.shape[-1])\n",
    "\n",
    "        min_dur = min(self.durations) // level\n",
    "        return min_dur * level\n",
    "\n",
    "    def adjust_audio_duration(self, audio, duration):\n",
    "        if audio.shape[-1] > duration:\n",
    "            audio = audio[..., :duration]\n",
    "        return audio\n",
    "\n",
    "    def normalize_audio(self, audio):\n",
    "        normalized = (audio - audio.mean()) / audio.std()\n",
    "        return normalized.reshape(1, 1, -1)\n",
    "\n",
    "    def __getitem__(self, idx):\n",
    "        clean_audio_path = self.data_tuples[idx][0]\n",
    "        clean_audio, sample_rate = torchaudio.load(clean_audio_path)\n",
    "        clean_audio = self.adjust_audio_duration(clean_audio, self.min_duration)\n",
    "        clean_audio = self.normalize_audio(clean_audio)\n",
    "\n",
    "        noisy_audio_path = self.data_tuples[idx][1]\n",
    "        noisy_audio, sample_rate = torchaudio.load(noisy_audio_path)\n",
    "        noisy_audio = self.adjust_audio_duration(noisy_audio, self.min_duration)\n",
    "        noisy_audio = self.normalize_audio(noisy_audio)\n",
    "\n",
    "        if self.transform:\n",
    "            clean_audio = self.transform(clean_audio, sample_rate)\n",
    "            noisy_audio = self.transform(noisy_audio, sample_rate)\n",
    "\n",
    "        return clean_audio.view(1, -1, 1), noisy_audio.view(1, -1, 1)"
   ]
  },
  {
   "cell_type": "code",
   "execution_count": null,
   "metadata": {},
   "outputs": [],
   "source": [
    "from scripts.transform import spec_n_mfcc\n",
    "\n",
    "cleaner_dataset = CoraCleanerDataset(heart_noised, spec_n_mfcc)\n",
    "# cleaner_dataset = CoraCleanerDataset(heart_noised)\n",
    "\n",
    "print(len(cleaner_dataset))\n",
    "cleaner_dataset[5][0].shape, cleaner_dataset[5][1].shape"
   ]
  },
  {
   "cell_type": "markdown",
   "metadata": {},
   "source": [
    "# Arquitectura"
   ]
  },
  {
   "cell_type": "code",
   "execution_count": null,
   "metadata": {},
   "outputs": [],
   "source": [
    "class DownConvBlock(pl.LightningModule):\n",
    "    def __init__(self, input_size, output_size, kernel_size=3, norm=True, dropout=0.0):\n",
    "        super(DownConvBlock, self).__init__()\n",
    "\n",
    "        self.layers = nn.Sequential(\n",
    "            nn.Conv2d(input_size, output_size, kernel_size, 2, 1)\n",
    "        )\n",
    "\n",
    "        if norm:\n",
    "            self.layers.add_module(\"norm\", nn.InstanceNorm2d(output_size))\n",
    "\n",
    "        self.layers.add_module(\"activation\", nn.LeakyReLU(0.2))\n",
    "\n",
    "        if dropout:\n",
    "            self.layers.add_module(\"dropout\", nn.Dropout(dropout))\n",
    "\n",
    "    def forward(self, x):\n",
    "        return self.layers(x)\n",
    "\n",
    "\n",
    "class UpConvBlock(pl.LightningModule):\n",
    "    def __init__(\n",
    "        self, input_size, output_size, kernel_size=3, stride=2, padding=1, dropout=0.0\n",
    "    ):\n",
    "        super(UpConvBlock, self).__init__()\n",
    "\n",
    "        self.layers = nn.Sequential(\n",
    "            nn.ConvTranspose2d(input_size, output_size, kernel_size, stride, padding),\n",
    "            nn.InstanceNorm2d(output_size),\n",
    "            nn.ReLU(),\n",
    "        )\n",
    "\n",
    "        if dropout:\n",
    "            self.layers.add_module(\"dropout\", nn.Dropout(dropout))\n",
    "\n",
    "    def forward(self, x, enc_ip):\n",
    "        print(\"\\nRaw:\\nx\", x.shape)\n",
    "        x = self.layers(x)\n",
    "        print(\"\\nUpConvBlock:\\nx\", x.shape)\n",
    "        print(\"enc\", enc_ip.shape)\n",
    "        op = torch.cat((x, enc_ip), dim=1)\n",
    "        return op\n",
    "\n",
    "\n",
    "class CoraDenoiser(pl.LightningModule):\n",
    "    def __init__(self, input_size):\n",
    "        super().__init__()\n",
    "        self.down_conv1 = DownConvBlock(input_size, 64, norm=False)\n",
    "        self.down_conv2 = DownConvBlock(64, 128)\n",
    "        self.down_conv3 = DownConvBlock(128, 256)\n",
    "        self.down_conv4 = DownConvBlock(256, 256, dropout=0.5)\n",
    "        self.down_conv5 = DownConvBlock(256, 256, dropout=0.5)\n",
    "        self.down_conv6 = DownConvBlock(256, 256, dropout=0.5)\n",
    "\n",
    "        self.up_conv1 = UpConvBlock(256, 256, kernel_size=(2, 3), padding=0, dropout=0.5)\n",
    "        self.up_conv2 = UpConvBlock(512, 256, kernel_size=(2, 3), padding=0, dropout=0.5)\n",
    "        self.up_conv3 = UpConvBlock(512, 256, kernel_size=(2, 3), padding=0, dropout=0.5)\n",
    "        self.up_conv4 = UpConvBlock(512, 128, dropout=0.5)\n",
    "        self.up_conv5 = UpConvBlock(256, 64)\n",
    "        self.up_conv6 = UpConvBlock(512, 128)\n",
    "        self.up_conv7 = UpConvBlock(256, 64)\n",
    "\n",
    "        self.upsample_layer = nn.Upsample(scale_factor=2)\n",
    "        self.zero_pad = nn.ZeroPad2d((1, 0, 1, 0))\n",
    "        self.conv_layer_1 = nn.Conv2d(128, input_size, kernel_size=(3, 3), padding=1)\n",
    "        self.activation = nn.Tanh()\n",
    "\n",
    "    def forward(self, x):\n",
    "        enc1 = self.down_conv1(x)\n",
    "        print(\"enc1\", enc1.shape)\n",
    "        enc2 = self.down_conv2(enc1)\n",
    "        print(\"enc2\", enc2.shape)\n",
    "        enc3 = self.down_conv3(enc2)\n",
    "        print(\"enc3\", enc3.shape)\n",
    "        enc4 = self.down_conv4(enc3)\n",
    "        print(\"enc4\", enc4.shape)\n",
    "        enc5 = self.down_conv5(enc4)\n",
    "        print(\"enc5\", enc5.shape)\n",
    "        enc6 = self.down_conv6(enc5)\n",
    "        print(\"enc6\", enc6.shape)\n",
    "\n",
    "        dec1 = self.up_conv1(enc6, enc5)\n",
    "        print(\"dec1\", dec1.shape)\n",
    "        dec2 = self.up_conv2(dec1, enc4)\n",
    "        print(\"dec2\", dec2.shape)\n",
    "        dec3 = self.up_conv3(dec2, enc3)\n",
    "        print(\"dec3\", dec3.shape)\n",
    "        dec4 = self.up_conv4(dec3, enc2)\n",
    "        print(\"dec4\", dec4.shape)\n",
    "        dec5 = self.up_conv5(dec4, enc1)\n",
    "        print(\"dec5\", dec5.shape)\n",
    "\n",
    "        final = self.upsample_layer(dec5)\n",
    "        print(\"final\", final.shape)\n",
    "        final = self.zero_pad(final)\n",
    "        print(\"final\", final.shape)\n",
    "        final = self.conv_layer_1(final)\n",
    "        print(\"final\", final.shape)\n",
    "        return final\n",
    "\n",
    "    def training_step(self, batch, batch_idx):\n",
    "        clean, noisy = batch\n",
    "        # Forward pass\n",
    "        decoded = self(noisy)\n",
    "        # Calculamos la pérdida (error de reconstrucción)\n",
    "        train_loss = nn.MSELoss()(decoded, clean)\n",
    "        # Registramos la pérdida para su monitoreo\n",
    "        self.log(\"train_loss\", train_loss, on_epoch=True)\n",
    "\n",
    "        return train_loss\n",
    "\n",
    "    def validation_step(self, batch, batch_idx):\n",
    "        clean, noisy = batch\n",
    "        decoded = self(noisy)\n",
    "        val_loss = nn.MSELoss()(decoded, clean)\n",
    "        self.log(\"val_loss\", val_loss, on_epoch=True)\n",
    "\n",
    "        return val_loss\n",
    "\n",
    "    def configure_optimizers(self):\n",
    "        optimizer = torch.optim.Adam(self.parameters(), lr=0.001)\n",
    "        # optimizer = torch.optim.SGD(self.parameters(), lr=0.001, momentum=0.9)\n",
    "\n",
    "        scheduler = {\n",
    "            \"scheduler\": CyclicLR(\n",
    "                optimizer, base_lr=0.001, max_lr=0.01, cycle_momentum=False\n",
    "            ),\n",
    "            \"interval\": \"step\",  # Frecuencia de ajuste del LR scheduler (en cada paso)\n",
    "        }\n",
    "\n",
    "        # scheduler = {\n",
    "        #     'scheduler': ReduceLROnPlateau(optimizer, patience=3),\n",
    "        #     'monitor': 'val_loss',  # Métrica para monitorear\n",
    "        #     'interval': 'epoch',    # Frecuencia de ajuste del LR scheduler\n",
    "        #     'frequency': 1          # Igual a interval, ya que estamos usando 'epoch'\n",
    "        # }\n",
    "\n",
    "        return [optimizer], [scheduler]"
   ]
  },
  {
   "cell_type": "markdown",
   "metadata": {},
   "source": [
    "# Entrenamiento, validación y prueba"
   ]
  },
  {
   "cell_type": "code",
   "execution_count": null,
   "metadata": {},
   "outputs": [],
   "source": [
    "batch_size = 16\n",
    "train_ratio = 0.7\n",
    "val_ratio = 0.15\n",
    "\n",
    "train_size = int(train_ratio * len(cleaner_dataset))\n",
    "val_size = int(val_ratio * len(cleaner_dataset))\n",
    "test_size = len(cleaner_dataset) - train_size - val_size\n",
    "\n",
    "train_dataset, val_dataset, test_dataset = random_split(\n",
    "    cleaner_dataset, [train_size, val_size, test_size]\n",
    ")\n",
    "\n",
    "train_dataloader = DataLoader(\n",
    "    dataset=train_dataset,\n",
    "    batch_size=batch_size,\n",
    "    shuffle=True,\n",
    "    # num_workers=2,\n",
    ")\n",
    "val_dataloader = DataLoader(val_dataset, batch_size, shuffle=False)\n",
    "test_dataloader = DataLoader(test_dataset, batch_size, shuffle=False)"
   ]
  },
  {
   "cell_type": "markdown",
   "metadata": {},
   "source": [
    "# Callbacks"
   ]
  },
  {
   "cell_type": "code",
   "execution_count": null,
   "metadata": {},
   "outputs": [],
   "source": [
    "checkpoint = ModelCheckpoint(\n",
    "    monitor=\"val_loss\",\n",
    "    dirpath=\"checkpoints/\",\n",
    "    filename=\"autoencoder-{epoch:02d}-{val_loss:.4f}\",\n",
    "    save_top_k=1,\n",
    "    mode=\"min\",\n",
    ")\n",
    "\n",
    "early_stopping = EarlyStopping(monitor=\"val_loss\", patience=5, mode=\"min\")\n",
    "\n",
    "lr_monitor = LearningRateMonitor(logging_interval=\"epoch\")\n",
    "\n",
    "# callbacks = [checkpoint, early_stopping, lr_monitor]\n",
    "callbacks = [checkpoint, lr_monitor]"
   ]
  },
  {
   "cell_type": "markdown",
   "metadata": {},
   "source": [
    "# Entrenamiento"
   ]
  },
  {
   "cell_type": "code",
   "execution_count": null,
   "metadata": {},
   "outputs": [],
   "source": [
    "input_size = cleaner_dataset[0][0].shape[-1]\n",
    "model = CoraDenoiser(input_size=input_size)\n",
    "\n",
    "logger = TensorBoardLogger(\"logs/\", name=\"cora_cleaner\")\n",
    "\n",
    "trainer = pl.Trainer(max_epochs=10, callbacks=callbacks, logger=logger)\n",
    "trainer.fit(model, train_dataloader, val_dataloader)"
   ]
  },
  {
   "cell_type": "markdown",
   "metadata": {},
   "source": [
    "# Predicción"
   ]
  },
  {
   "cell_type": "code",
   "execution_count": null,
   "metadata": {},
   "outputs": [],
   "source": [
    "to_pred = cleaner_dataset[randint(0, len(cleaner_dataset))]\n",
    "\n",
    "plot_prediction_from_tuple(\n",
    "    model=model,\n",
    "    clean_noisy_tuple=to_pred,\n",
    "    duration=cleaner_dataset.min_duration,\n",
    ")"
   ]
  },
  {
   "cell_type": "code",
   "execution_count": null,
   "metadata": {},
   "outputs": [],
   "source": [
    "# Descomentar para revisar el Tensorboard en web\n",
    "# !tensorboard --logdir=path_to_logs_directory\n",
    "\n",
    "# Otra opción es VisualStudioCode: Ctrl+Shift+P -> Launch Tensorboard"
   ]
  }
 ],
 "metadata": {
  "kernelspec": {
   "display_name": "cora_cleaner-eXlQ0b7N",
   "language": "python",
   "name": "python3"
  },
  "language_info": {
   "codemirror_mode": {
    "name": "ipython",
    "version": 3
   },
   "file_extension": ".py",
   "mimetype": "text/x-python",
   "name": "python",
   "nbconvert_exporter": "python",
   "pygments_lexer": "ipython3",
   "version": "3.11.4"
  },
  "orig_nbformat": 4
 },
 "nbformat": 4,
 "nbformat_minor": 2
}
